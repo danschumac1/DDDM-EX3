{
 "cells": [
  {
   "cell_type": "markdown",
   "id": "af83fef3",
   "metadata": {},
   "source": [
    "# Exercise #3 Survival Analysis Exercise\n",
    "___DA6233 Kilger___\n",
    "\n",
    "Name: ___Dan Schumacher___\n"
   ]
  },
  {
   "cell_type": "markdown",
   "id": "adf01f20",
   "metadata": {},
   "source": [
    "#### Imports"
   ]
  },
  {
   "cell_type": "code",
   "execution_count": 9,
   "id": "ef227534",
   "metadata": {},
   "outputs": [],
   "source": [
    "import pandas as pd\n",
    "from lifelines import KaplanMeierFitter\n",
    "import matplotlib.pyplot as plt\n",
    "from IPython.display import IFrame\n",
    "import seaborn as sns \n",
    "from lifelines.statistics import logrank_test, multivariate_logrank_test"
   ]
  },
  {
   "cell_type": "markdown",
   "id": "fb5302e2",
   "metadata": {},
   "source": [
    "#### Load and Clean Data\n"
   ]
  },
  {
   "cell_type": "code",
   "execution_count": 10,
   "id": "2c34b3f6",
   "metadata": {},
   "outputs": [
    {
     "data": {
      "text/html": [
       "<div>\n",
       "<style scoped>\n",
       "    .dataframe tbody tr th:only-of-type {\n",
       "        vertical-align: middle;\n",
       "    }\n",
       "\n",
       "    .dataframe tbody tr th {\n",
       "        vertical-align: top;\n",
       "    }\n",
       "\n",
       "    .dataframe thead th {\n",
       "        text-align: right;\n",
       "    }\n",
       "</style>\n",
       "<table border=\"1\" class=\"dataframe\">\n",
       "  <thead>\n",
       "    <tr style=\"text-align: right;\">\n",
       "      <th></th>\n",
       "      <th>subject</th>\n",
       "      <th>days</th>\n",
       "      <th>dead</th>\n",
       "    </tr>\n",
       "  </thead>\n",
       "  <tbody>\n",
       "    <tr>\n",
       "      <th>0</th>\n",
       "      <td>A</td>\n",
       "      <td>1</td>\n",
       "      <td>1</td>\n",
       "    </tr>\n",
       "    <tr>\n",
       "      <th>1</th>\n",
       "      <td>B</td>\n",
       "      <td>4</td>\n",
       "      <td>1</td>\n",
       "    </tr>\n",
       "    <tr>\n",
       "      <th>2</th>\n",
       "      <td>C</td>\n",
       "      <td>5</td>\n",
       "      <td>0</td>\n",
       "    </tr>\n",
       "    <tr>\n",
       "      <th>3</th>\n",
       "      <td>D</td>\n",
       "      <td>5</td>\n",
       "      <td>1</td>\n",
       "    </tr>\n",
       "    <tr>\n",
       "      <th>4</th>\n",
       "      <td>E</td>\n",
       "      <td>7</td>\n",
       "      <td>1</td>\n",
       "    </tr>\n",
       "    <tr>\n",
       "      <th>5</th>\n",
       "      <td>F</td>\n",
       "      <td>10</td>\n",
       "      <td>0</td>\n",
       "    </tr>\n",
       "    <tr>\n",
       "      <th>6</th>\n",
       "      <td>G</td>\n",
       "      <td>10</td>\n",
       "      <td>0</td>\n",
       "    </tr>\n",
       "    <tr>\n",
       "      <th>7</th>\n",
       "      <td>H</td>\n",
       "      <td>12</td>\n",
       "      <td>1</td>\n",
       "    </tr>\n",
       "    <tr>\n",
       "      <th>8</th>\n",
       "      <td>I</td>\n",
       "      <td>14</td>\n",
       "      <td>1</td>\n",
       "    </tr>\n",
       "    <tr>\n",
       "      <th>9</th>\n",
       "      <td>J</td>\n",
       "      <td>16</td>\n",
       "      <td>0</td>\n",
       "    </tr>\n",
       "  </tbody>\n",
       "</table>\n",
       "</div>"
      ],
      "text/plain": [
       "  subject  days  dead\n",
       "0       A     1     1\n",
       "1       B     4     1\n",
       "2       C     5     0\n",
       "3       D     5     1\n",
       "4       E     7     1\n",
       "5       F    10     0\n",
       "6       G    10     0\n",
       "7       H    12     1\n",
       "8       I    14     1\n",
       "9       J    16     0"
      ]
     },
     "execution_count": 10,
     "metadata": {},
     "output_type": "execute_result"
    }
   ],
   "source": [
    "# read in \n",
    "short_df = pd.read_csv('./data/short_survival_data.csv')\n",
    "\n",
    "# drop column that was accidentally added with all NAs\n",
    "short_df.drop(short_df.columns[-1], axis=1, inplace=True)\n",
    "\n",
    "# rename Status column to represent the positive class\n",
    "short_df.rename(columns={short_df.columns[-1]:'dead', 'survival time in days': 'days'}, inplace=True)\n",
    "\n",
    "# let's look\n",
    "short_df.head(16)"
   ]
  },
  {
   "cell_type": "code",
   "execution_count": 11,
   "id": "94e6e09e",
   "metadata": {},
   "outputs": [
    {
     "data": {
      "text/html": [
       "<div>\n",
       "<style scoped>\n",
       "    .dataframe tbody tr th:only-of-type {\n",
       "        vertical-align: middle;\n",
       "    }\n",
       "\n",
       "    .dataframe tbody tr th {\n",
       "        vertical-align: top;\n",
       "    }\n",
       "\n",
       "    .dataframe thead th {\n",
       "        text-align: right;\n",
       "    }\n",
       "</style>\n",
       "<table border=\"1\" class=\"dataframe\">\n",
       "  <thead>\n",
       "    <tr style=\"text-align: right;\">\n",
       "      <th></th>\n",
       "      <th>Group</th>\n",
       "      <th>time</th>\n",
       "      <th>event</th>\n",
       "    </tr>\n",
       "  </thead>\n",
       "  <tbody>\n",
       "    <tr>\n",
       "      <th>0</th>\n",
       "      <td>1</td>\n",
       "      <td>681</td>\n",
       "      <td>0</td>\n",
       "    </tr>\n",
       "    <tr>\n",
       "      <th>1</th>\n",
       "      <td>1</td>\n",
       "      <td>602</td>\n",
       "      <td>0</td>\n",
       "    </tr>\n",
       "    <tr>\n",
       "      <th>2</th>\n",
       "      <td>1</td>\n",
       "      <td>996</td>\n",
       "      <td>0</td>\n",
       "    </tr>\n",
       "    <tr>\n",
       "      <th>3</th>\n",
       "      <td>1</td>\n",
       "      <td>1162</td>\n",
       "      <td>0</td>\n",
       "    </tr>\n",
       "    <tr>\n",
       "      <th>4</th>\n",
       "      <td>1</td>\n",
       "      <td>833</td>\n",
       "      <td>0</td>\n",
       "    </tr>\n",
       "  </tbody>\n",
       "</table>\n",
       "</div>"
      ],
      "text/plain": [
       "   Group  time  event\n",
       "0      1   681      0\n",
       "1      1   602      0\n",
       "2      1   996      0\n",
       "3      1  1162      0\n",
       "4      1   833      0"
      ]
     },
     "execution_count": 11,
     "metadata": {},
     "output_type": "execute_result"
    }
   ],
   "source": [
    "# Second database needed\n",
    "long_df = pd.read_csv('./data/long_events_data.csv')\n",
    "\n",
    "#rename group column\n",
    "long_df.rename(columns={'Group#':'Group'}, inplace=True)\n",
    "\n",
    "# let's look\n",
    "long_df.head()"
   ]
  },
  {
   "cell_type": "markdown",
   "id": "9bd43f85",
   "metadata": {},
   "source": [
    "## 1. You are analyzing a 16 day study of patients who have Krusty the Clown disease. Your data includes a subject ID, their survival time and a status. A status of 0 means they are alive while a status of 1 means they died of the disease.\n"
   ]
  },
  {
   "cell_type": "markdown",
   "id": "b8b8cf68",
   "metadata": {},
   "source": [
    "### a. Construct a survival table similar to the one in the lecture for the data. You will show your work within the table – if there is some division like 1/5 then show that like 1/5=.2 and if there is some multiplication then show the numbers being multiplied and the result e.g. .1 * 4 =0.4\n"
   ]
  },
  {
   "cell_type": "code",
   "execution_count": 12,
   "id": "48d2bd82",
   "metadata": {},
   "outputs": [
    {
     "data": {
      "text/html": [
       "\n",
       "        <iframe\n",
       "            width=\"700\"\n",
       "            height=\"551\"\n",
       "            src=\"./data/surv_an.pdf/\"\n",
       "            frameborder=\"0\"\n",
       "            allowfullscreen\n",
       "            \n",
       "        ></iframe>\n",
       "        "
      ],
      "text/plain": [
       "<IPython.lib.display.IFrame at 0x1a0cb3867c0>"
      ]
     },
     "execution_count": 12,
     "metadata": {},
     "output_type": "execute_result"
    }
   ],
   "source": [
    "# Display hand written\n",
    "pdf_path = './data/surv_an.pdf/'\n",
    "IFrame(pdf_path, width=700, height=551)"
   ]
  },
  {
   "cell_type": "markdown",
   "id": "3fd4d95c",
   "metadata": {},
   "source": [
    "### b.\tPlot a survival curve for the probabilities you generate in part a."
   ]
  },
  {
   "cell_type": "code",
   "execution_count": 20,
   "id": "5ace4f54",
   "metadata": {},
   "outputs": [
    {
     "data": {
      "image/png": "[encoded data removed]",
      "text/plain": [
       "<Figure size 1440x720 with 1 Axes>"
      ]
     },
     "metadata": {},
     "output_type": "display_data"
    }
   ],
   "source": [
    "#this looks better\n",
    "sns.set(style=\"darkgrid\")\n",
    "plt.figure(figsize=(20,10))\n",
    "\n",
    "# Instantiate \n",
    "kmf = KaplanMeierFitter()\n",
    "\n",
    "# Fit \n",
    "kmf.fit(durations=short_df['days'], event_observed=short_df['dead'])\n",
    "\n",
    "# Plot \n",
    "kmf.plot_survival_function(ci_show=False, color='red', lw=4)\n",
    "plt.title('Krusty Survival Curve', fontsize=24)\n",
    "plt.xlabel('Days', fontsize=18)\n",
    "plt.ylabel('Survival Probability',fontsize=18)\n",
    "plt.show();"
   ]
  },
  {
   "cell_type": "markdown",
   "id": "f80757b0",
   "metadata": {},
   "source": [
    "## 2. You are studying three different new drugs that may help slow the progress of La Traviata disease which compels people to sing opera until they exhaust themselves and die. Do the following:\n"
   ]
  },
  {
   "cell_type": "markdown",
   "id": "08f2fc83",
   "metadata": {},
   "source": [
    "### a. Draw a survival plot that shows the survival curves for all three drugs. "
   ]
  },
  {
   "cell_type": "code",
   "execution_count": 15,
   "id": "939a488f",
   "metadata": {
    "scrolled": false
   },
   "outputs": [
    {
     "data": {
      "image/png": "[encoded data removed]",
      "text/plain": [
       "<Figure size 1440x720 with 1 Axes>"
      ]
     },
     "metadata": {},
     "output_type": "display_data"
    }
   ],
   "source": [
    "# make look nice\n",
    "plt.figure(figsize=(20,10))\n",
    "sns.set(style=\"darkgrid\")\n",
    "\n",
    "#instantiate 3 dif\n",
    "kmf1 = KaplanMeierFitter()\n",
    "kmf2 = KaplanMeierFitter()\n",
    "kmf3 = KaplanMeierFitter()\n",
    "\n",
    "# split drugs up\n",
    "group1 = long_df[long_df['Group'] == 1]\n",
    "group2 = long_df[long_df['Group'] == 2]\n",
    "group3 = long_df[long_df['Group'] == 3]\n",
    "\n",
    "# Fit\n",
    "kmf1.fit(durations=group1['time'], event_observed=group1['event'])\n",
    "kmf2.fit(durations=group2['time'], event_observed=group2['event'])\n",
    "kmf3.fit(durations=group3['time'], event_observed=group3['event'])\n",
    "\n",
    "# Plot\n",
    "ax = kmf1.plot_survival_function(ci_show=False, label='Drug 1',lw=4)\n",
    "kmf2.plot_survival_function(ax=ax, ci_show=False, label='Drug 2',lw=4)\n",
    "kmf3.plot_survival_function(ax=ax, ci_show=False, label='Drug 3',lw=4)\n",
    "\n",
    "# Add legend + Customize \n",
    "plt.xlabel('Time', fontsize=18)  \n",
    "plt.ylabel('Survival Probability', fontsize=18)  \n",
    "plt.title('Survival Estimates: Drugs vs La Traviata disease', fontsize=20)  \n",
    "plt.legend(title='La Traviata Drug', fontsize=14, title_fontsize=16)\n",
    "\n",
    "\n",
    "plt.show();"
   ]
  },
  {
   "cell_type": "markdown",
   "id": "c55b0521",
   "metadata": {},
   "source": [
    "### b. Test to see if overall there is an effect of any of the drugs on survival taken as a global set.\n"
   ]
  },
  {
   "cell_type": "code",
   "execution_count": 18,
   "id": "30084d8e",
   "metadata": {
    "scrolled": false
   },
   "outputs": [
    {
     "name": "stdout",
     "output_type": "stream",
     "text": [
      "H0: Groups have identical hazard functions\n",
      "\n",
      "test stat: 25.7\n",
      "p val: 2.67e-06\n",
      "\n",
      "Reject H0. Groups DO NOT have identical hazard functions\n"
     ]
    }
   ],
   "source": [
    "# Multivar logrank\n",
    "\n",
    "print('H0: Groups have identical hazard functions')\n",
    "\n",
    "\n",
    "result = multivariate_logrank_test(\n",
    "    event_durations=long_df['time'],                   \n",
    "    groups=long_df['Group'],                      \n",
    "    event_observed=long_df['event']\n",
    ")\n",
    "\n",
    "alpha = .05\n",
    "\n",
    "print(f'\\ntest stat: {result.test_statistic:.3}')\n",
    "print(f'p val: {result.p_value:.3}')\n",
    "\n",
    "if result.p_value < alpha:\n",
    "    print('\\nReject H0. Groups DO NOT have identical hazard functions')\n",
    "else:\n",
    "    print('Cannot Reject H0')"
   ]
  },
  {
   "cell_type": "markdown",
   "id": "d7a6fb2c",
   "metadata": {},
   "source": [
    "### c. Compare the survival curves for each of the three drugs with each other (three comparisons) and see if any if the curves are different from each other. Note that you should be sure to adjust for multiple group comparisons."
   ]
  },
  {
   "cell_type": "code",
   "execution_count": 19,
   "id": "7f97c106",
   "metadata": {},
   "outputs": [
    {
     "name": "stdout",
     "output_type": "stream",
     "text": [
      "H0: Groups have identical hazard functions\n",
      "\n",
      "Adjusted p-values for multiple comparisons:\n",
      "\n",
      "1 vs 2    9.824754e-07\n",
      "1 vs 3    1.141928e+00\n",
      "2 vs 3    1.210205e-04\n",
      "dtype: float64\n",
      "\n",
      "Reject H0 in all cases. Each group has a unique hazard function\n"
     ]
    }
   ],
   "source": [
    "# Log-rank test\n",
    "print('H0: Groups have identical hazard functions\\n')\n",
    "compare_1_2 = logrank_test(group1['time'], group2['time'], event_observed_A=group1['event'], event_observed_B=group2['event'])\n",
    "compare_1_3 = logrank_test(group1['time'], group3['time'], event_observed_A=group1['event'], event_observed_B=group3['event'])\n",
    "compare_2_3 = logrank_test(group2['time'], group3['time'], event_observed_A=group2['event'], event_observed_B=group3['event'])\n",
    "\n",
    "# grab p-values\n",
    "p_values = pd.Series([compare_1_2.p_value, compare_1_3.p_value, compare_2_3.p_value], index=['1 vs 2', '1 vs 3', '2 vs 3'])\n",
    "\n",
    "# Adjusting for multiple comparison\n",
    "p_adjusted = p_values * 3  # Multiplying by the number of comparisons\n",
    "\n",
    "#  results\n",
    "print(\"Adjusted p-values for multiple comparisons:\\n\")\n",
    "print(p_adjusted)\n",
    "print('\\nReject H0 in all cases. Each group has a unique hazard function')"
   ]
  }
 ],
 "metadata": {
  "hide_input": false,
  "kernelspec": {
   "display_name": "Python 3 (ipykernel)",
   "language": "python",
   "name": "python3"
  },
  "language_info": {
   "codemirror_mode": {
    "name": "ipython",
    "version": 3
   },
   "file_extension": ".py",
   "mimetype": "text/x-python",
   "name": "python",
   "nbconvert_exporter": "python",
   "pygments_lexer": "ipython3",
   "version": "3.9.12"
  }
 },
 "nbformat": 4,
 "nbformat_minor": 5
}
